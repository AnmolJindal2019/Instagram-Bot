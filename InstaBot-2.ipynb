{
 "cells": [
  {
   "cell_type": "code",
   "execution_count": 3,
   "metadata": {},
   "outputs": [
    {
     "name": "stderr",
     "output_type": "stream",
     "text": [
      "Matplotlib is building the font cache; this may take a moment.\n"
     ]
    }
   ],
   "source": [
    "from selenium import webdriver\n",
    "import time\n",
    "import matplotlib.pyplot as plt\n",
    "import numpy as np\n",
    "from selenium.webdriver.common.by import By \n",
    "from selenium.webdriver.support.ui import WebDriverWait \n",
    "from selenium.webdriver.support import expected_conditions as EC\n",
    "driver = webdriver.Opera(executable_path = 'D:\\operadriver_win64\\operadriver.exe')"
   ]
  },
  {
   "cell_type": "code",
   "execution_count": 4,
   "metadata": {},
   "outputs": [],
   "source": [
    "def loginInstagram(username , password):\n",
    "    driver.get('https://www.instagram.com')\n",
    "    driver.implicitly_wait(3)\n",
    "    \n",
    "    username = driver.find_element_by_name('username').send_keys(username)\n",
    "    password = driver.find_element_by_name('password').send_keys(password)\n",
    "    Login_button = WebDriverWait(driver, 2).until(EC.element_to_be_clickable((By.CSS_SELECTOR, \"button[type='submit']\"))).click()\n",
    "    \n",
    "    not_now = WebDriverWait(driver, 10).until(EC.element_to_be_clickable((By.XPATH, '//button[contains(text(), \"Not Now\")]'))).click()\n",
    "    not_now2 = WebDriverWait(driver, 10).until(EC.element_to_be_clickable((By.XPATH, '//button[contains(text(), \"Not Now\")]'))).click()\n",
    "\n",
    "\n"
   ]
  },
  {
   "cell_type": "code",
   "execution_count": 5,
   "metadata": {},
   "outputs": [],
   "source": [
    "loginInstagram('SAMPLE_USERNAME' , 'SAMPLE_PASSWORD')"
   ]
  },
  {
   "cell_type": "code",
   "execution_count": 2,
   "metadata": {},
   "outputs": [],
   "source": [
    "def searchResults(text):\n",
    "    searchbox = WebDriverWait(driver,10).until(EC.element_to_be_clickable((By.XPATH, \"//input[@placeholder='Search']\")))\n",
    "    searchbox.clear()\n",
    "    searchbox.send_keys(text)\n",
    "    time.sleep(5)\n",
    "    search_results = driver.find_elements_by_xpath(\"//div[contains(@class , 'fuqBx')]//a\")\n",
    "    results = []\n",
    "    for i in search_results:\n",
    "        s = i.get_attribute('href')\n",
    "        s = s.split('/')\n",
    "        if(len(s)==5):\n",
    "            results.append(s[3])\n",
    "    return results"
   ]
  },
  {
   "cell_type": "code",
   "execution_count": 8,
   "metadata": {},
   "outputs": [
    {
     "name": "stdout",
     "output_type": "stream",
     "text": [
      "1 .  foodtalkindia\n",
      "2 .  delhi_street_food1\n",
      "3 .  dilsefoodie\n",
      "4 .  covid.food.relief\n",
      "5 .  yourfoodlab\n",
      "6 .  food_forces\n",
      "7 .  food\n",
      "8 .  foodrush.recipe\n",
      "9 .  the.food_cult\n",
      "10 .  foodnetwork\n"
     ]
    }
   ],
   "source": [
    "#Question 1.1\n",
    "li_profiles = searchResults('food')\n",
    "li_profiles = li_profiles[:10]\n",
    "i=1\n",
    "for ele in li_profiles:\n",
    "    print(i,\". \",ele)\n",
    "    i+=1"
   ]
  },
  {
   "cell_type": "code",
   "execution_count": 9,
   "metadata": {},
   "outputs": [],
   "source": [
    "def openProfile(profile):\n",
    "    searchbox = WebDriverWait(driver,10).until(EC.element_to_be_clickable((By.XPATH, \"//input[@placeholder='Search']\")))\n",
    "    searchbox.clear()\n",
    "    time.sleep(3)\n",
    "    searchbox.send_keys(profile)\n",
    "    time.sleep(3)\n",
    "    button = WebDriverWait(driver, 10).until(EC.presence_of_element_located((By.XPATH, '//div[contains(@class, \"fuqBx\")]/div/a')))\n",
    "    button.click()\n",
    "    "
   ]
  },
  {
   "cell_type": "code",
   "execution_count": 21,
   "metadata": {},
   "outputs": [],
   "source": [
    "#works only if a profile is opened\n",
    "def getNumFollowers():\n",
    "    try:\n",
    "        followerText = WebDriverWait(driver, 10).until(\n",
    "            EC.presence_of_all_elements_located((By.XPATH, '//span[contains(@class, \"g47SY\")]'))\n",
    "            )\n",
    "        followers = followerText[1].get_attribute('title')\n",
    "        return followers\n",
    "    except:\n",
    "        pass\n",
    "    \n",
    "def firstPost():\n",
    "    post = driver.find_element_by_class_name(\"kIKUG\");\n",
    "    post.click()\n",
    "    \n",
    "def nextPost():\n",
    "    btn_next = driver.find_element_by_xpath('//div[contains(@class, \"DdSX2\")]/a[last()]')\n",
    "    btn_next.click()\n",
    "    time.sleep(1)"
   ]
  },
  {
   "cell_type": "code",
   "execution_count": 22,
   "metadata": {},
   "outputs": [],
   "source": [
    "def getProfileWithTopFollowers(li_profiles):\n",
    "    dict_followers = {}\n",
    "    for ele in li_profiles:\n",
    "        openProfile(ele)\n",
    "        time.sleep(2)\n",
    "        numFollowers = getNumFollowers()\n",
    "        numFollowers = numFollowers.replace(',', '')\n",
    "        dict_followers[ele] = int(numFollowers)\n",
    "        time.sleep(1)\n",
    "    li_ans = [(k,v) for k, v in sorted(dict_followers.items(), key=lambda item: item[1])]\n",
    "    li_ans = li_ans[::-1]\n",
    "    li_ans = li_ans[0:5]\n",
    "    return li_ans"
   ]
  },
  {
   "cell_type": "code",
   "execution_count": 12,
   "metadata": {},
   "outputs": [
    {
     "name": "stdout",
     "output_type": "stream",
     "text": [
      "('foodnetwork', 11333262)\n",
      "('yourfoodlab', 1712359)\n",
      "('dilsefoodie', 785579)\n",
      "('foodrush.recipe', 588170)\n",
      "('food', 305014)\n"
     ]
    }
   ],
   "source": [
    "#Question 1.1\n",
    "li_topFollowers = getProfileWithTopFollowers(li_profiles)\n",
    "for ele in li_topFollowers:\n",
    "    print(ele)"
   ]
  },
  {
   "cell_type": "code",
   "execution_count": 23,
   "metadata": {},
   "outputs": [],
   "source": [
    "from datetime import date\n",
    "# this works only when a post is opened\n",
    "def getDateOfPost():\n",
    "    # wait how much it is required\n",
    "    date = WebDriverWait(driver, 10).until(\n",
    "        EC.presence_of_element_located((By.XPATH, '//time[contains(@class, \"_1o9PC Nzb55\")]'))\n",
    "    )\n",
    "    date = date.get_attribute('datetime')\n",
    "    date = date.split('T')\n",
    "    date = date[0]\n",
    "    date = date.split('-')\n",
    "    date = int(date[-1])\n",
    "    return date\n",
    "\n",
    "\n",
    "def getNumPosts(li):\n",
    "    today = str(date.today())\n",
    "    today = today.split('-')\n",
    "    today = int(today[-1])\n",
    "    \n",
    "    nameCount = []\n",
    "    \n",
    "    for ele in li:\n",
    "        count = 0\n",
    "        \n",
    "        # page has been opened\n",
    "        openProfile(ele[0])\n",
    "        time.sleep(1)\n",
    "        firstPost()\n",
    "        dateOfPost = getDateOfPost()\n",
    "        while today - dateOfPost <= 3:\n",
    "            count = count + 1\n",
    "            nextPost()\n",
    "            dateOfPost = getDateOfPost()\n",
    "        btnClose = driver.find_elements_by_xpath('//button[contains(@class, \"wpO6b\")]')[-1]\n",
    "        btnClose.click()\n",
    "        nameCount.append((ele[0], count))\n",
    "        time.sleep(2)\n",
    "    return nameCount"
   ]
  },
  {
   "cell_type": "code",
   "execution_count": 24,
   "metadata": {},
   "outputs": [
    {
     "name": "stdout",
     "output_type": "stream",
     "text": [
      "('foodnetwork', 35)\n",
      "('yourfoodlab', 2)\n",
      "('dilsefoodie', 4)\n",
      "('foodrush.recipe', 6)\n",
      "('food', 4)\n"
     ]
    }
   ],
   "source": [
    "#Question 1.2\n",
    "nameCount = getNumPosts(li_topFollowers)\n",
    "for ele in nameCount:\n",
    "    print(ele)"
   ]
  },
  {
   "cell_type": "code",
   "execution_count": 25,
   "metadata": {},
   "outputs": [
    {
     "data": {
      "image/png": "[encoded data removed]",
      "text/plain": [
       "<Figure size 432x288 with 1 Axes>"
      ]
     },
     "metadata": {
      "needs_background": "light"
     },
     "output_type": "display_data"
    }
   ],
   "source": [
    "#Question 1.3\n",
    "# making bar graph\n",
    "li_names = [ele[0] for ele in nameCount]\n",
    "li_count = [ele[1] for ele in nameCount]\n",
    "plt.bar(li_names, li_count)\n",
    "plt.xlabel('Username')\n",
    "plt.ylabel('Number of posts in past 3 days')\n",
    "plt.show()"
   ]
  },
  {
   "cell_type": "code",
   "execution_count": 28,
   "metadata": {},
   "outputs": [
    {
     "data": {
      "text/plain": [
       "{'#DeliciousMissBrown': 1,\n",
       " '#GreatFoodTruckRace': 2,\n",
       " '#TheKitchen': 1,\n",
       " '#discoveryplus': 4,\n",
       " '#ChoppedNextGen': 1,\n",
       " '#Unwrapped': 1,\n",
       " '#BestBakerInAmerica': 1,\n",
       " '#BudgetBattle': 1,\n",
       " '#TheExtraMile': 2,\n",
       " '#chinesefood': 2,\n",
       " '#food': 10,\n",
       " '#rice': 2,\n",
       " '#schezwan': 1,\n",
       " '#schezwannoodles': 1,\n",
       " '#schezwansauce': 1,\n",
       " '#ricelover': 2,\n",
       " '#cravings': 1,\n",
       " '#cravingsatisfied': 1,\n",
       " '#manchurian': 1,\n",
       " '#manchurianballs': 1,\n",
       " '#sanjyotkeer': 8,\n",
       " '#yourfoodlab': 8,\n",
       " '#instadaily': 6,\n",
       " '#foodporn': 10,\n",
       " '#recipe': 10,\n",
       " '#kachori': 2,\n",
       " '#rajkachori': 2,\n",
       " '#streetfood': 10,\n",
       " '#indiancuisine': 7,\n",
       " '#indianfood': 4,\n",
       " '#foodphotography': 8,\n",
       " '#kachorilove': 2,\n",
       " '#foodie': 15,\n",
       " '#mumbaistagram': 2,\n",
       " '#mumbaifood': 2,\n",
       " '#recipes': 6,\n",
       " '#recipeoftheday': 2,\n",
       " '#sandwich': 3,\n",
       " '#sandwichesofinstagram': 2,\n",
       " '#sandwichlover': 2,\n",
       " '#cheese': 5,\n",
       " '#cheesesandwich': 2,\n",
       " '#grilledsandwich': 2,\n",
       " '#vegetarian': 2,\n",
       " '#homemade': 3,\n",
       " '#sheekh': 1,\n",
       " '#kabab': 1,\n",
       " '#video': 1,\n",
       " '#mumbaistreetfood': 1,\n",
       " '#achaar': 2,\n",
       " '#mango': 2,\n",
       " '#mangoseason': 2,\n",
       " '#mangorecipe': 2,\n",
       " '#nostalgia': 2,\n",
       " '#oldrecipes': 2,\n",
       " '#streetfoodindia': 3,\n",
       " '#mangoachar': 2,\n",
       " '#darkphotography': 2,\n",
       " '#moody': 2,\n",
       " '#throughyourlens': 2,\n",
       " '#burger': 1,\n",
       " '#burgerrecipe': 1,\n",
       " '#Dilsefoodie': 6,\n",
       " '#dilsefoodie': 4,\n",
       " '#Egg': 1,\n",
       " '#korma': 1,\n",
       " '': 10,\n",
       " '#BeatenCoffeeHack': 2,\n",
       " '#Sunbeanbeatencaffe': 2,\n",
       " '#BeatenCoffee': 2,\n",
       " '#easycoffeeeasytimes': 2,\n",
       " '#dalgonacoffee': 2,\n",
       " '#coffee': 2,\n",
       " '#coffeelover': 2,\n",
       " '#coffeetime': 2,\n",
       " '#coffeeholic': 2,\n",
       " '#coffelover': 1,\n",
       " '#HarTastyCheezMeinGoCheese': 2,\n",
       " '#pavbhaji': 2,\n",
       " '#cheesy': 2,\n",
       " '#gocheese': 2,\n",
       " '#foodrushrecipe': 2,\n",
       " '#bakery': 2,\n",
       " '#bread': 4,\n",
       " '#twist': 2,\n",
       " '#party': 2,\n",
       " '#paneer': 1,\n",
       " '#pakora': 1,\n",
       " '#fried': 2,\n",
       " '#breadpakoda': 1,\n",
       " '#masala': 1,\n",
       " '#streetstyle': 1,\n",
       " '#india': 1,\n",
       " '#indian': 1,\n",
       " '#newyear': 2,\n",
       " '#chocolate': 1,\n",
       " '#coco': 1,\n",
       " '#cocoa': 1,\n",
       " '#bombs': 1,\n",
       " '#chocolatebomb': 1,\n",
       " '#hotchocolate': 1,\n",
       " '#winter': 1,\n",
       " '#winterseason': 1,\n",
       " '#magic': 1,\n",
       " '#egg': 1,\n",
       " '#indochinese': 1,\n",
       " '#chinese': 1,\n",
       " '#foodstagram': 1,\n",
       " '#fusion': 1,\n",
       " '#chilli': 1,\n",
       " '#newyear2021': 1,\n",
       " '#newyeareve': 1,\n",
       " '#MakingEverydayHealthy': 1,\n",
       " '#californiawalnuts': 1,\n",
       " '#chicken': 1,\n",
       " '#grill': 1,\n",
       " '#malaichicken': 1,\n",
       " '#EnjoyitsFromEurope': 1,\n",
       " '#EuropeHomeOfCheese': 1,\n",
       " '#AustrianCheese': 1,\n",
       " '#foodofinstagram': 1,\n",
       " '#opentoast': 1,\n",
       " '#NewInTown': 1}"
      ]
     },
     "execution_count": 28,
     "metadata": {},
     "output_type": "execute_result"
    }
   ],
   "source": [
    "#Question 2.1\n",
    "def getHashTags(li_usernames):\n",
    "    d_words = {}\n",
    "    for ele in li_usernames:\n",
    "        openProfile(ele[0])\n",
    "        time.sleep(2)\n",
    "        firstPost()\n",
    "\n",
    "        #find hashtags\n",
    "        i = 0\n",
    "        while i < 10:\n",
    "            try:\n",
    "                li_allTags = WebDriverWait(driver, 5).until(\n",
    "                    EC.presence_of_all_elements_located((By.XPATH, '//a[contains(@class, \" xil3i\")]'))\n",
    "                    )\n",
    "                for ele in li_allTags:\n",
    "                    text = ele.text\n",
    "                    d_words[text] = d_words.get(text,0) + 1\n",
    "            except:\n",
    "                pass\n",
    "            nextPost()\n",
    "            i = i+1\n",
    "        btnExit = driver.find_elements_by_xpath('//button[contains(@class, \"wpO6b\")]')[-1]\n",
    "        btnExit.click()\n",
    "    return d_words\n",
    "\n",
    "d_words = getHashTags(li_topFollowers)\n",
    "d_words"
   ]
  },
  {
   "cell_type": "code",
   "execution_count": 29,
   "metadata": {},
   "outputs": [
    {
     "data": {
      "text/html": [
       "<div>\n",
       "<style scoped>\n",
       "    .dataframe tbody tr th:only-of-type {\n",
       "        vertical-align: middle;\n",
       "    }\n",
       "\n",
       "    .dataframe tbody tr th {\n",
       "        vertical-align: top;\n",
       "    }\n",
       "\n",
       "    .dataframe thead th {\n",
       "        text-align: right;\n",
       "    }\n",
       "</style>\n",
       "<table border=\"1\" class=\"dataframe\">\n",
       "  <thead>\n",
       "    <tr style=\"text-align: right;\">\n",
       "      <th></th>\n",
       "      <th>Words</th>\n",
       "      <th>Frequency</th>\n",
       "    </tr>\n",
       "  </thead>\n",
       "  <tbody>\n",
       "    <tr>\n",
       "      <th>0</th>\n",
       "      <td>#foodie</td>\n",
       "      <td>15</td>\n",
       "    </tr>\n",
       "    <tr>\n",
       "      <th>1</th>\n",
       "      <td>#food</td>\n",
       "      <td>10</td>\n",
       "    </tr>\n",
       "    <tr>\n",
       "      <th>2</th>\n",
       "      <td></td>\n",
       "      <td>10</td>\n",
       "    </tr>\n",
       "    <tr>\n",
       "      <th>3</th>\n",
       "      <td>#foodporn</td>\n",
       "      <td>10</td>\n",
       "    </tr>\n",
       "    <tr>\n",
       "      <th>4</th>\n",
       "      <td>#recipe</td>\n",
       "      <td>10</td>\n",
       "    </tr>\n",
       "    <tr>\n",
       "      <th>...</th>\n",
       "      <td>...</td>\n",
       "      <td>...</td>\n",
       "    </tr>\n",
       "    <tr>\n",
       "      <th>118</th>\n",
       "      <td>#pakora</td>\n",
       "      <td>1</td>\n",
       "    </tr>\n",
       "    <tr>\n",
       "      <th>119</th>\n",
       "      <td>#breadpakoda</td>\n",
       "      <td>1</td>\n",
       "    </tr>\n",
       "    <tr>\n",
       "      <th>120</th>\n",
       "      <td>#masala</td>\n",
       "      <td>1</td>\n",
       "    </tr>\n",
       "    <tr>\n",
       "      <th>121</th>\n",
       "      <td>#streetstyle</td>\n",
       "      <td>1</td>\n",
       "    </tr>\n",
       "    <tr>\n",
       "      <th>122</th>\n",
       "      <td>#NewInTown</td>\n",
       "      <td>1</td>\n",
       "    </tr>\n",
       "  </tbody>\n",
       "</table>\n",
       "<p>123 rows × 2 columns</p>\n",
       "</div>"
      ],
      "text/plain": [
       "            Words  Frequency\n",
       "0         #foodie         15\n",
       "1           #food         10\n",
       "2                         10\n",
       "3       #foodporn         10\n",
       "4         #recipe         10\n",
       "..            ...        ...\n",
       "118       #pakora          1\n",
       "119  #breadpakoda          1\n",
       "120       #masala          1\n",
       "121  #streetstyle          1\n",
       "122    #NewInTown          1\n",
       "\n",
       "[123 rows x 2 columns]"
      ]
     },
     "execution_count": 29,
     "metadata": {},
     "output_type": "execute_result"
    }
   ],
   "source": [
    "#Question 2.2\n",
    "#Create dataframe\n",
    "import pandas as pd\n",
    "df = pd.DataFrame(d_words.items(), columns=['Words', 'Frequency'])\n",
    "df.sort_values(by=['Frequency'], ascending = False, inplace = True)\n",
    "df.reset_index(inplace=True, drop = True)\n",
    "df"
   ]
  },
  {
   "cell_type": "code",
   "execution_count": 31,
   "metadata": {},
   "outputs": [
    {
     "name": "stdout",
     "output_type": "stream",
     "text": [
      "#foodie : 15\n",
      "#food : 10\n",
      " : 10\n",
      "#foodporn : 10\n",
      "#recipe : 10\n",
      "#streetfood : 10\n",
      "#sanjyotkeer : 8\n",
      "#yourfoodlab : 8\n",
      "#foodphotography : 8\n",
      "#indiancuisine : 7\n"
     ]
    }
   ],
   "source": [
    "#Question 2.3\n",
    "#Create csv\n",
    "df.to_csv('words.csv', index = False)\n",
    "#Question 2.4\n",
    "for i in range(10):\n",
    "    print(df.iloc[i]['Words'], \":\", df.iloc[i]['Frequency'])"
   ]
  },
  {
   "cell_type": "code",
   "execution_count": 32,
   "metadata": {},
   "outputs": [
    {
     "data": {
      "image/png": "[encoded data removed]",
      "text/plain": [
       "<Figure size 432x288 with 1 Axes>"
      ]
     },
     "metadata": {},
     "output_type": "display_data"
    }
   ],
   "source": [
    "#Question 2.5\n",
    "li_words = df['Words'][0:5]\n",
    "li_frequency = df['Frequency'][0:5]\n",
    "li_frequency = np.array(li_frequency)\n",
    "\n",
    "def absolute_value(val):\n",
    "    a  = np.round(val/100*li_frequency.sum())\n",
    "    return int(a)\n",
    "\n",
    "plt.pie(li_frequency, labels=li_words, autopct=absolute_value)\n",
    "plt.show()"
   ]
  },
  {
   "cell_type": "code",
   "execution_count": 34,
   "metadata": {},
   "outputs": [],
   "source": [
    "#Question 3.*\n",
    "def getAvgLikes(li_usernames):\n",
    "    li_ans = []\n",
    "    for ele in li_usernames:\n",
    "        li_likes = []\n",
    "        print(ele[0])\n",
    "        openProfile(ele[0])\n",
    "        time.sleep(1)\n",
    "        firstPost()\n",
    "        time.sleep(1)\n",
    "        i=0\n",
    "        while i < 10:\n",
    "            try:\n",
    "                likes = WebDriverWait(driver, 5).until(\n",
    "                    EC.presence_of_element_located((By.CLASS_NAME, 'vcOH2'))\n",
    "                )\n",
    "                likes.click()\n",
    "                numLikes = WebDriverWait(driver, 5).until(\n",
    "                    EC.presence_of_element_located((By.CLASS_NAME, 'vJRqr'))\n",
    "                )\n",
    "                likes = numLikes.text\n",
    "                print(likes)\n",
    "                li_likes.append(likes)\n",
    "                driver.find_element_by_class_name('QhbhU').click()\n",
    "            except:\n",
    "                pass\n",
    "            try:\n",
    "                likes = WebDriverWait(driver,5).until(\n",
    "                    EC.presence_of_element_located((By.CLASS_NAME, 'zV_Nj'))\n",
    "                )\n",
    "                likes = likes.text\n",
    "                print(likes)\n",
    "\n",
    "                li_likes.append(likes)\n",
    "                \n",
    "            except:\n",
    "                pass\n",
    "            nextPost()\n",
    "            i += 1\n",
    "        li_ans.append([ele[0], li_likes])\n",
    "        print()\n",
    "        btnExit = driver.find_elements_by_xpath('//button[contains(@class, \"wpO6b\")]')[-1]\n",
    "        btnExit.click()\n",
    "    return li_ans"
   ]
  },
  {
   "cell_type": "code",
   "execution_count": 35,
   "metadata": {},
   "outputs": [
    {
     "name": "stdout",
     "output_type": "stream",
     "text": [
      "foodnetwork\n",
      "17,930 likes\n",
      "3,998 likes\n",
      "3,219 likes\n",
      "6,516 likes\n",
      "16,772 likes\n",
      "19,117 likes\n",
      "4,571 likes\n",
      "6,851 likes\n",
      "3,394 likes\n",
      "3,086 likes\n",
      "\n",
      "yourfoodlab\n",
      "\n",
      "27,812 likes\n",
      "\n",
      "54,616 likes\n",
      "37,432 likes\n",
      "32,825 likes\n",
      "\n",
      "19,988 likes\n",
      "18,497 likes\n",
      "47,036 likes\n",
      "\n",
      "dilsefoodie\n",
      "1,451 likes\n",
      "8,521 likes\n",
      "8,018 likes\n",
      "14,741 likes\n",
      "9,748 likes\n",
      "6,619 likes\n",
      "20,622 likes\n",
      "5,226 likes\n",
      "9,734 likes\n",
      "9,556 likes\n",
      "\n",
      "foodrush.recipe\n",
      "5,170 likes\n",
      "23,649 likes\n",
      "7,880 likes\n",
      "12,253 likes\n",
      "51,487 likes\n",
      "32,022 likes\n",
      "15,926 likes\n",
      "9,820 likes\n",
      "76,992 likes\n",
      "41,552 likes\n",
      "\n",
      "food\n",
      "99 likes\n",
      "769 likes\n",
      "462 likes\n",
      "1,517 likes\n",
      "1,477 likes\n",
      "230 likes\n",
      "359 likes\n",
      "3,239 likes\n",
      "372 likes\n",
      "1,192 likes\n",
      "\n"
     ]
    }
   ],
   "source": [
    "li_ans = getAvgLikes(li_topFollowers)"
   ]
  },
  {
   "cell_type": "code",
   "execution_count": 49,
   "metadata": {},
   "outputs": [
    {
     "name": "stdout",
     "output_type": "stream",
     "text": [
      "[['foodnetwork', 8545.4], ['yourfoodlab', 23820.6], ['dilsefoodie', 9423.6], ['foodrush.recipe', 27675.1], ['food', 971.6]]\n"
     ]
    }
   ],
   "source": [
    "li_numLikes = []\n",
    "for ele in li_ans:\n",
    "    add = 0\n",
    "    for num in ele[1]:\n",
    "        if(len(num)==0):\n",
    "            continue\n",
    "        num = num.split()\n",
    "        num = num[0]\n",
    "        num = num.replace(',' , '')\n",
    "        num = int(num)\n",
    "        add += num\n",
    "    small_ele = [ele[0], add/len(ele[1])]\n",
    "    li_numLikes.append(small_ele)\n",
    "print(li_numLikes)"
   ]
  },
  {
   "cell_type": "code",
   "execution_count": 50,
   "metadata": {},
   "outputs": [
    {
     "name": "stdout",
     "output_type": "stream",
     "text": [
      "['foodnetwork', 'yourfoodlab', 'dilsefoodie', 'foodrush.recipe', 'food']\n",
      "[11333262  1712359   785579   588170   305014]\n",
      "[ 8545.4 23820.6  9423.6 27675.1   971.6]\n",
      "[1326.2412526    71.8856368    83.36293985   21.2526784   313.92960066]\n"
     ]
    }
   ],
   "source": [
    "import numpy as np\n",
    "li_name = []\n",
    "li_followers = []\n",
    "li_likes = []\n",
    "for i in range(len(li_topFollowers)):\n",
    "    li_name.append(li_topFollowers[i][0])\n",
    "    li_followers.append(li_topFollowers[i][1])\n",
    "    li_likes.append(li_numLikes[i][1])\n",
    "    \n",
    "li_followers = np.array(li_followers)\n",
    "li_likes = np.array(li_likes)\n",
    "li_ratio = li_followers/li_likes\n",
    "print(li_names)\n",
    "print(li_followers)\n",
    "print(li_likes)\n",
    "print(li_ratio)"
   ]
  },
  {
   "cell_type": "code",
   "execution_count": 51,
   "metadata": {},
   "outputs": [
    {
     "data": {
      "image/png": "[encoded data removed]",
      "text/plain": [
       "<Figure size 432x288 with 1 Axes>"
      ]
     },
     "metadata": {
      "needs_background": "light"
     },
     "output_type": "display_data"
    }
   ],
   "source": [
    "plt.bar(li_name, li_ratio)\n",
    "plt.title(\"Follower/Like ratio for top food handles\")\n",
    "plt.xlabel(\"Top Handles\")\n",
    "plt.ylabel(\"Followers/Like\")\n",
    "plt.show()"
   ]
  },
  {
   "cell_type": "code",
   "execution_count": null,
   "metadata": {},
   "outputs": [],
   "source": []
  }
 ],
 "metadata": {
  "kernelspec": {
   "display_name": "Python 3",
   "language": "python",
   "name": "python3"
  },
  "language_info": {
   "codemirror_mode": {
    "name": "ipython",
    "version": 3
   },
   "file_extension": ".py",
   "mimetype": "text/x-python",
   "name": "python",
   "nbconvert_exporter": "python",
   "pygments_lexer": "ipython3",
   "version": "3.8.5"
  }
 },
 "nbformat": 4,
 "nbformat_minor": 4
}
